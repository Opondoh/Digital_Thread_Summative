{
 "cells": [
  {
   "cell_type": "markdown",
   "metadata": {},
   "source": [
    "# Digital For Industrial Summative - Part 1\n",
    " \n",
    "## Creating A Digital Thread\n"
   ]
  },
  {
   "cell_type": "markdown",
   "metadata": {},
   "source": [
    "A Digital Thread is the one unifying theme or characteristic that connects every aspect of an asset or unit, right from its inception and design, to manufacture, deployment, operations, maintenance to eventual retirement.\n",
    "\n",
    "In analysis, a digital thread is the logical with which we bind and merge the various data sources into one whole, so that it lends itself to quantitative approaches easily.\n",
    "\n",
    "<img src = 'images/Digital_Thread.JPG' width=500>\n"
   ]
  },
  {
   "cell_type": "markdown",
   "metadata": {},
   "source": [
    "A digital thread is a technique to 'stitch' the data that comes in disjoint tables, such that they can be put together logically. That is a task for this exercise."
   ]
  },
  {
   "cell_type": "markdown",
   "metadata": {},
   "source": [
    "Data sets provided:\n",
    "\n",
    "We have been give 5 data sets, all of which related to one month's worth of readings taken at a live volcano site. The volcano was instrumented with multiple sensors in 10 different geographical points (nodes). Our goal is to combine and merge all of this into one digital thread, making it amenable for analysis.\n",
    "\n",
    "Tasks:\n",
    "\n",
    "    1.0 Read all the needed input files\n",
    "    2.0 Plotting Sensor Time Series\n",
    "    3.0 Descriptive Analysis One data frame at a time \n",
    "    4.0 Creating a Digital Thread from the data sets\n",
    "    5.0 Time Series based analysis\n",
    "    6.0 Correlations Analysis\n",
    "    7.0 Data Manipulations to Merge multiple data sets\n",
    "    8.0 Building A Battery Remaining-Life prediction model"
   ]
  },
  {
   "cell_type": "code",
   "execution_count": 1,
   "metadata": {
    "slideshow": {
     "slide_type": "slide"
    }
   },
   "outputs": [],
   "source": [
    "import numpy as np\n",
    "import pandas as pd\n",
    "import matplotlib.pyplot as plt\n",
    "import seaborn as sns\n",
    "\n",
    "import os"
   ]
  },
  {
   "cell_type": "code",
   "execution_count": 2,
   "metadata": {},
   "outputs": [],
   "source": [
    "%matplotlib inline"
   ]
  },
  {
   "cell_type": "markdown",
   "metadata": {},
   "source": [
    "### 1.0 Read all the needed input files"
   ]
  },
  {
   "cell_type": "markdown",
   "metadata": {},
   "source": [
    "Create multiple data frames, one to hold each data table."
   ]
  },
  {
   "cell_type": "markdown",
   "metadata": {},
   "source": [
    "Convert all Data frame time stamps into date-time format, so that time-based indexing is possible"
   ]
  },
  {
   "cell_type": "code",
   "execution_count": 3,
   "metadata": {},
   "outputs": [],
   "source": [
    "#create multiple data frames\n",
    "data_point = pd.read_csv(\"data/datapoints.csv\", parse_dates =[\"timestamp\"])\n",
    "data_types = pd.read_csv(\"data/datatypes.csv\")\n",
    "data_nodes= pd.read_csv(\"data/nodes.csv\", parse_dates =[\"created_at\", \"updated_at\"])\n",
    "data_sensors = pd.read_csv(\"data/sensors.csv\", parse_dates =[\"created_at\", \"updated_at\"])\n",
    "data_volcanos = pd.read_csv(\"data/volcanos.csv\", parse_dates =[\"created_at\", \"updated_at\"])"
   ]
  },
  {
   "cell_type": "code",
   "execution_count": 23,
   "metadata": {},
   "outputs": [
    {
     "data": {
      "text/html": [
       "<div>\n",
       "<style scoped>\n",
       "    .dataframe tbody tr th:only-of-type {\n",
       "        vertical-align: middle;\n",
       "    }\n",
       "\n",
       "    .dataframe tbody tr th {\n",
       "        vertical-align: top;\n",
       "    }\n",
       "\n",
       "    .dataframe thead th {\n",
       "        text-align: right;\n",
       "    }\n",
       "</style>\n",
       "<table border=\"1\" class=\"dataframe\">\n",
       "  <thead>\n",
       "    <tr style=\"text-align: right;\">\n",
       "      <th></th>\n",
       "      <th>id</th>\n",
       "      <th>value</th>\n",
       "      <th>timestamp</th>\n",
       "      <th>sensor_id</th>\n",
       "    </tr>\n",
       "  </thead>\n",
       "  <tbody>\n",
       "    <tr>\n",
       "      <td>0</td>\n",
       "      <td>764c5e60-8679-11e6-a353-2f6c041e2491</td>\n",
       "      <td>98.000</td>\n",
       "      <td>2016-08-03 04:39:25+00:00</td>\n",
       "      <td>7635c920-8679-11e6-a353-2f6c041e2491</td>\n",
       "    </tr>\n",
       "    <tr>\n",
       "      <td>1</td>\n",
       "      <td>764c5e61-8679-11e6-a353-2f6c041e2491</td>\n",
       "      <td>33.198</td>\n",
       "      <td>2016-08-03 04:39:25+00:00</td>\n",
       "      <td>763b9580-8679-11e6-a353-2f6c041e2491</td>\n",
       "    </tr>\n",
       "    <tr>\n",
       "      <td>2</td>\n",
       "      <td>764dbdf0-8679-11e6-a353-2f6c041e2491</td>\n",
       "      <td>29.300</td>\n",
       "      <td>2016-08-03 04:39:25+00:00</td>\n",
       "      <td>763ca6f0-8679-11e6-a353-2f6c041e2491</td>\n",
       "    </tr>\n",
       "    <tr>\n",
       "      <td>3</td>\n",
       "      <td>764dbdf1-8679-11e6-a353-2f6c041e2491</td>\n",
       "      <td>96893.110</td>\n",
       "      <td>2016-08-03 04:39:25+00:00</td>\n",
       "      <td>763d9150-8679-11e6-a353-2f6c041e2491</td>\n",
       "    </tr>\n",
       "    <tr>\n",
       "      <td>4</td>\n",
       "      <td>764dbdf2-8679-11e6-a353-2f6c041e2491</td>\n",
       "      <td>459.736</td>\n",
       "      <td>2016-08-03 04:39:25+00:00</td>\n",
       "      <td>763701a1-8679-11e6-a353-2f6c041e2491</td>\n",
       "    </tr>\n",
       "  </tbody>\n",
       "</table>\n",
       "</div>"
      ],
      "text/plain": [
       "                                     id      value                 timestamp  \\\n",
       "0  764c5e60-8679-11e6-a353-2f6c041e2491     98.000 2016-08-03 04:39:25+00:00   \n",
       "1  764c5e61-8679-11e6-a353-2f6c041e2491     33.198 2016-08-03 04:39:25+00:00   \n",
       "2  764dbdf0-8679-11e6-a353-2f6c041e2491     29.300 2016-08-03 04:39:25+00:00   \n",
       "3  764dbdf1-8679-11e6-a353-2f6c041e2491  96893.110 2016-08-03 04:39:25+00:00   \n",
       "4  764dbdf2-8679-11e6-a353-2f6c041e2491    459.736 2016-08-03 04:39:25+00:00   \n",
       "\n",
       "                              sensor_id  \n",
       "0  7635c920-8679-11e6-a353-2f6c041e2491  \n",
       "1  763b9580-8679-11e6-a353-2f6c041e2491  \n",
       "2  763ca6f0-8679-11e6-a353-2f6c041e2491  \n",
       "3  763d9150-8679-11e6-a353-2f6c041e2491  \n",
       "4  763701a1-8679-11e6-a353-2f6c041e2491  "
      ]
     },
     "execution_count": 23,
     "metadata": {},
     "output_type": "execute_result"
    }
   ],
   "source": [
    "#view first five rows\n",
    "data_point.head()"
   ]
  },
  {
   "cell_type": "code",
   "execution_count": 5,
   "metadata": {},
   "outputs": [
    {
     "data": {
      "text/html": [
       "<div>\n",
       "<style scoped>\n",
       "    .dataframe tbody tr th:only-of-type {\n",
       "        vertical-align: middle;\n",
       "    }\n",
       "\n",
       "    .dataframe tbody tr th {\n",
       "        vertical-align: top;\n",
       "    }\n",
       "\n",
       "    .dataframe thead th {\n",
       "        text-align: right;\n",
       "    }\n",
       "</style>\n",
       "<table border=\"1\" class=\"dataframe\">\n",
       "  <thead>\n",
       "    <tr style=\"text-align: right;\">\n",
       "      <th></th>\n",
       "      <th>id</th>\n",
       "      <th>type</th>\n",
       "      <th>si_unit</th>\n",
       "      <th>type_id</th>\n",
       "    </tr>\n",
       "  </thead>\n",
       "  <tbody>\n",
       "    <tr>\n",
       "      <td>0</td>\n",
       "      <td>35dcb3c0-8679-11e6-bda3-ef77801087ee</td>\n",
       "      <td>temperature</td>\n",
       "      <td>celcius</td>\n",
       "      <td>TCA</td>\n",
       "    </tr>\n",
       "    <tr>\n",
       "      <td>1</td>\n",
       "      <td>35dcb3c1-8679-11e6-bda3-ef77801087ee</td>\n",
       "      <td>pressure</td>\n",
       "      <td>pascal</td>\n",
       "      <td>PA</td>\n",
       "    </tr>\n",
       "    <tr>\n",
       "      <td>2</td>\n",
       "      <td>35dcb3c2-8679-11e6-bda3-ef77801087ee</td>\n",
       "      <td>humidity</td>\n",
       "      <td>relative humidity</td>\n",
       "      <td>HUMA</td>\n",
       "    </tr>\n",
       "    <tr>\n",
       "      <td>3</td>\n",
       "      <td>35dcdad0-8679-11e6-bda3-ef77801087ee</td>\n",
       "      <td>carbon dioxide concentration</td>\n",
       "      <td>ppm</td>\n",
       "      <td>GP_CO2</td>\n",
       "    </tr>\n",
       "    <tr>\n",
       "      <td>4</td>\n",
       "      <td>35dcdad1-8679-11e6-bda3-ef77801087ee</td>\n",
       "      <td>hydrogen sulfide concentration</td>\n",
       "      <td>ppm</td>\n",
       "      <td>GP_H2S</td>\n",
       "    </tr>\n",
       "  </tbody>\n",
       "</table>\n",
       "</div>"
      ],
      "text/plain": [
       "                                     id                            type  \\\n",
       "0  35dcb3c0-8679-11e6-bda3-ef77801087ee                     temperature   \n",
       "1  35dcb3c1-8679-11e6-bda3-ef77801087ee                        pressure   \n",
       "2  35dcb3c2-8679-11e6-bda3-ef77801087ee                        humidity   \n",
       "3  35dcdad0-8679-11e6-bda3-ef77801087ee    carbon dioxide concentration   \n",
       "4  35dcdad1-8679-11e6-bda3-ef77801087ee  hydrogen sulfide concentration   \n",
       "\n",
       "             si_unit type_id  \n",
       "0            celcius     TCA  \n",
       "1             pascal      PA  \n",
       "2  relative humidity    HUMA  \n",
       "3                ppm  GP_CO2  \n",
       "4                ppm  GP_H2S  "
      ]
     },
     "execution_count": 5,
     "metadata": {},
     "output_type": "execute_result"
    }
   ],
   "source": [
    "#view first five rows\n",
    "data_types.head()"
   ]
  },
  {
   "cell_type": "code",
   "execution_count": 6,
   "metadata": {},
   "outputs": [
    {
     "data": {
      "text/html": [
       "<div>\n",
       "<style scoped>\n",
       "    .dataframe tbody tr th:only-of-type {\n",
       "        vertical-align: middle;\n",
       "    }\n",
       "\n",
       "    .dataframe tbody tr th {\n",
       "        vertical-align: top;\n",
       "    }\n",
       "\n",
       "    .dataframe thead th {\n",
       "        text-align: right;\n",
       "    }\n",
       "</style>\n",
       "<table border=\"1\" class=\"dataframe\">\n",
       "  <thead>\n",
       "    <tr style=\"text-align: right;\">\n",
       "      <th></th>\n",
       "      <th>id</th>\n",
       "      <th>name</th>\n",
       "      <th>description</th>\n",
       "      <th>location</th>\n",
       "      <th>status</th>\n",
       "      <th>created_at</th>\n",
       "      <th>updated_at</th>\n",
       "      <th>volcano_id</th>\n",
       "    </tr>\n",
       "  </thead>\n",
       "  <tbody>\n",
       "    <tr>\n",
       "      <td>0</td>\n",
       "      <td>c5e39fa0-867a-11e6-a353-2f6c041e2491</td>\n",
       "      <td>N1</td>\n",
       "      <td>\\N</td>\n",
       "      <td>\\N</td>\n",
       "      <td>OFFLINE</td>\n",
       "      <td>2016-08-17 01:06:49+00:00</td>\n",
       "      <td>2016-09-29 19:28:05.932000+00:00</td>\n",
       "      <td>35dc3e90-8679-11e6-bda3-ef77801087ee</td>\n",
       "    </tr>\n",
       "    <tr>\n",
       "      <td>1</td>\n",
       "      <td>c147ece0-8679-11e6-a353-2f6c041e2491</td>\n",
       "      <td>N9</td>\n",
       "      <td>\\N</td>\n",
       "      <td>\\N</td>\n",
       "      <td>OFFLINE</td>\n",
       "      <td>2016-08-07 00:51:40+00:00</td>\n",
       "      <td>2016-09-29 19:41:07.065000+00:00</td>\n",
       "      <td>35dc3e90-8679-11e6-bda3-ef77801087ee</td>\n",
       "    </tr>\n",
       "    <tr>\n",
       "      <td>2</td>\n",
       "      <td>76309900-8679-11e6-a353-2f6c041e2491</td>\n",
       "      <td>N8</td>\n",
       "      <td>\\N</td>\n",
       "      <td>\\N</td>\n",
       "      <td>OFFLINE</td>\n",
       "      <td>2016-08-03 22:09:40+00:00</td>\n",
       "      <td>2016-09-29 19:20:17.417000+00:00</td>\n",
       "      <td>35dc3e90-8679-11e6-bda3-ef77801087ee</td>\n",
       "    </tr>\n",
       "    <tr>\n",
       "      <td>3</td>\n",
       "      <td>762b8ff0-8679-11e6-a353-2f6c041e2491</td>\n",
       "      <td>N10</td>\n",
       "      <td>\\N</td>\n",
       "      <td>\\N</td>\n",
       "      <td>OFFLINE</td>\n",
       "      <td>2016-08-03 04:39:25+00:00</td>\n",
       "      <td>2016-09-29 19:20:17.431000+00:00</td>\n",
       "      <td>35dc3e90-8679-11e6-bda3-ef77801087ee</td>\n",
       "    </tr>\n",
       "    <tr>\n",
       "      <td>4</td>\n",
       "      <td>c14ccee0-8679-11e6-a353-2f6c041e2491</td>\n",
       "      <td>N2</td>\n",
       "      <td>\\N</td>\n",
       "      <td>\\N</td>\n",
       "      <td>OFFLINE</td>\n",
       "      <td>2016-08-10 04:20:22+00:00</td>\n",
       "      <td>2016-09-29 19:20:17.523000+00:00</td>\n",
       "      <td>35dc3e90-8679-11e6-bda3-ef77801087ee</td>\n",
       "    </tr>\n",
       "  </tbody>\n",
       "</table>\n",
       "</div>"
      ],
      "text/plain": [
       "                                     id name description location   status  \\\n",
       "0  c5e39fa0-867a-11e6-a353-2f6c041e2491   N1          \\N       \\N  OFFLINE   \n",
       "1  c147ece0-8679-11e6-a353-2f6c041e2491   N9          \\N       \\N  OFFLINE   \n",
       "2  76309900-8679-11e6-a353-2f6c041e2491   N8          \\N       \\N  OFFLINE   \n",
       "3  762b8ff0-8679-11e6-a353-2f6c041e2491  N10          \\N       \\N  OFFLINE   \n",
       "4  c14ccee0-8679-11e6-a353-2f6c041e2491   N2          \\N       \\N  OFFLINE   \n",
       "\n",
       "                 created_at                       updated_at  \\\n",
       "0 2016-08-17 01:06:49+00:00 2016-09-29 19:28:05.932000+00:00   \n",
       "1 2016-08-07 00:51:40+00:00 2016-09-29 19:41:07.065000+00:00   \n",
       "2 2016-08-03 22:09:40+00:00 2016-09-29 19:20:17.417000+00:00   \n",
       "3 2016-08-03 04:39:25+00:00 2016-09-29 19:20:17.431000+00:00   \n",
       "4 2016-08-10 04:20:22+00:00 2016-09-29 19:20:17.523000+00:00   \n",
       "\n",
       "                             volcano_id  \n",
       "0  35dc3e90-8679-11e6-bda3-ef77801087ee  \n",
       "1  35dc3e90-8679-11e6-bda3-ef77801087ee  \n",
       "2  35dc3e90-8679-11e6-bda3-ef77801087ee  \n",
       "3  35dc3e90-8679-11e6-bda3-ef77801087ee  \n",
       "4  35dc3e90-8679-11e6-bda3-ef77801087ee  "
      ]
     },
     "execution_count": 6,
     "metadata": {},
     "output_type": "execute_result"
    }
   ],
   "source": [
    "#view first five rows\n",
    "data_nodes.head()"
   ]
  },
  {
   "cell_type": "code",
   "execution_count": 7,
   "metadata": {},
   "outputs": [
    {
     "data": {
      "text/html": [
       "<div>\n",
       "<style scoped>\n",
       "    .dataframe tbody tr th:only-of-type {\n",
       "        vertical-align: middle;\n",
       "    }\n",
       "\n",
       "    .dataframe tbody tr th {\n",
       "        vertical-align: top;\n",
       "    }\n",
       "\n",
       "    .dataframe thead th {\n",
       "        text-align: right;\n",
       "    }\n",
       "</style>\n",
       "<table border=\"1\" class=\"dataframe\">\n",
       "  <thead>\n",
       "    <tr style=\"text-align: right;\">\n",
       "      <th></th>\n",
       "      <th>id</th>\n",
       "      <th>description</th>\n",
       "      <th>data_frequency</th>\n",
       "      <th>status</th>\n",
       "      <th>created_at</th>\n",
       "      <th>updated_at</th>\n",
       "      <th>data_type_id</th>\n",
       "      <th>node_id</th>\n",
       "    </tr>\n",
       "  </thead>\n",
       "  <tbody>\n",
       "    <tr>\n",
       "      <td>0</td>\n",
       "      <td>c15a6370-8679-11e6-a353-2f6c041e2491</td>\n",
       "      <td>\\N</td>\n",
       "      <td>1800000</td>\n",
       "      <td>OFFLINE</td>\n",
       "      <td>2016-08-07 00:51:40+00:00</td>\n",
       "      <td>2016-09-29 19:41:07.066000+00:00</td>\n",
       "      <td>35dcdad0-8679-11e6-bda3-ef77801087ee</td>\n",
       "      <td>c147ece0-8679-11e6-a353-2f6c041e2491</td>\n",
       "    </tr>\n",
       "    <tr>\n",
       "      <td>1</td>\n",
       "      <td>7635c920-8679-11e6-a353-2f6c041e2491</td>\n",
       "      <td>\\N</td>\n",
       "      <td>1800000</td>\n",
       "      <td>OFFLINE</td>\n",
       "      <td>2016-08-03 04:39:25+00:00</td>\n",
       "      <td>2016-09-29 20:13:52.793000+00:00</td>\n",
       "      <td>35dcdad2-8679-11e6-bda3-ef77801087ee</td>\n",
       "      <td>762b8ff0-8679-11e6-a353-2f6c041e2491</td>\n",
       "    </tr>\n",
       "    <tr>\n",
       "      <td>2</td>\n",
       "      <td>763b9580-8679-11e6-a353-2f6c041e2491</td>\n",
       "      <td>\\N</td>\n",
       "      <td>1800000</td>\n",
       "      <td>OFFLINE</td>\n",
       "      <td>2016-08-03 04:39:25+00:00</td>\n",
       "      <td>2016-09-29 20:13:52.797000+00:00</td>\n",
       "      <td>35dcdad1-8679-11e6-bda3-ef77801087ee</td>\n",
       "      <td>762b8ff0-8679-11e6-a353-2f6c041e2491</td>\n",
       "    </tr>\n",
       "    <tr>\n",
       "      <td>3</td>\n",
       "      <td>763ca6f0-8679-11e6-a353-2f6c041e2491</td>\n",
       "      <td>\\N</td>\n",
       "      <td>1800000</td>\n",
       "      <td>OFFLINE</td>\n",
       "      <td>2016-08-03 04:39:25+00:00</td>\n",
       "      <td>2016-09-29 20:13:52.803000+00:00</td>\n",
       "      <td>35dcb3c0-8679-11e6-bda3-ef77801087ee</td>\n",
       "      <td>762b8ff0-8679-11e6-a353-2f6c041e2491</td>\n",
       "    </tr>\n",
       "    <tr>\n",
       "      <td>4</td>\n",
       "      <td>763d9150-8679-11e6-a353-2f6c041e2491</td>\n",
       "      <td>\\N</td>\n",
       "      <td>1800000</td>\n",
       "      <td>OFFLINE</td>\n",
       "      <td>2016-08-03 04:39:25+00:00</td>\n",
       "      <td>2016-09-29 20:13:52.811000+00:00</td>\n",
       "      <td>35dcb3c1-8679-11e6-bda3-ef77801087ee</td>\n",
       "      <td>762b8ff0-8679-11e6-a353-2f6c041e2491</td>\n",
       "    </tr>\n",
       "  </tbody>\n",
       "</table>\n",
       "</div>"
      ],
      "text/plain": [
       "                                     id description  data_frequency   status  \\\n",
       "0  c15a6370-8679-11e6-a353-2f6c041e2491          \\N         1800000  OFFLINE   \n",
       "1  7635c920-8679-11e6-a353-2f6c041e2491          \\N         1800000  OFFLINE   \n",
       "2  763b9580-8679-11e6-a353-2f6c041e2491          \\N         1800000  OFFLINE   \n",
       "3  763ca6f0-8679-11e6-a353-2f6c041e2491          \\N         1800000  OFFLINE   \n",
       "4  763d9150-8679-11e6-a353-2f6c041e2491          \\N         1800000  OFFLINE   \n",
       "\n",
       "                 created_at                       updated_at  \\\n",
       "0 2016-08-07 00:51:40+00:00 2016-09-29 19:41:07.066000+00:00   \n",
       "1 2016-08-03 04:39:25+00:00 2016-09-29 20:13:52.793000+00:00   \n",
       "2 2016-08-03 04:39:25+00:00 2016-09-29 20:13:52.797000+00:00   \n",
       "3 2016-08-03 04:39:25+00:00 2016-09-29 20:13:52.803000+00:00   \n",
       "4 2016-08-03 04:39:25+00:00 2016-09-29 20:13:52.811000+00:00   \n",
       "\n",
       "                           data_type_id                               node_id  \n",
       "0  35dcdad0-8679-11e6-bda3-ef77801087ee  c147ece0-8679-11e6-a353-2f6c041e2491  \n",
       "1  35dcdad2-8679-11e6-bda3-ef77801087ee  762b8ff0-8679-11e6-a353-2f6c041e2491  \n",
       "2  35dcdad1-8679-11e6-bda3-ef77801087ee  762b8ff0-8679-11e6-a353-2f6c041e2491  \n",
       "3  35dcb3c0-8679-11e6-bda3-ef77801087ee  762b8ff0-8679-11e6-a353-2f6c041e2491  \n",
       "4  35dcb3c1-8679-11e6-bda3-ef77801087ee  762b8ff0-8679-11e6-a353-2f6c041e2491  "
      ]
     },
     "execution_count": 7,
     "metadata": {},
     "output_type": "execute_result"
    }
   ],
   "source": [
    "#view first five rows\n",
    "data_sensors.head()"
   ]
  },
  {
   "cell_type": "code",
   "execution_count": 8,
   "metadata": {},
   "outputs": [
    {
     "data": {
      "text/html": [
       "<div>\n",
       "<style scoped>\n",
       "    .dataframe tbody tr th:only-of-type {\n",
       "        vertical-align: middle;\n",
       "    }\n",
       "\n",
       "    .dataframe tbody tr th {\n",
       "        vertical-align: top;\n",
       "    }\n",
       "\n",
       "    .dataframe thead th {\n",
       "        text-align: right;\n",
       "    }\n",
       "</style>\n",
       "<table border=\"1\" class=\"dataframe\">\n",
       "  <thead>\n",
       "    <tr style=\"text-align: right;\">\n",
       "      <th></th>\n",
       "      <th>id</th>\n",
       "      <th>name</th>\n",
       "      <th>description</th>\n",
       "      <th>location</th>\n",
       "      <th>status</th>\n",
       "      <th>created_at</th>\n",
       "      <th>updated_at</th>\n",
       "    </tr>\n",
       "  </thead>\n",
       "  <tbody>\n",
       "    <tr>\n",
       "      <td>0</td>\n",
       "      <td>35dc3e90-8679-11e6-bda3-ef77801087ee</td>\n",
       "      <td>Masaya</td>\n",
       "      <td>This is the world's biggest, baddest, most evi...</td>\n",
       "      <td>{11.985318299999999,-86.178342900000004}</td>\n",
       "      <td>OFFLINE</td>\n",
       "      <td>2016-09-29 19:16:23.419000+00:00</td>\n",
       "      <td>2016-10-07 07:43:05.015000+00:00</td>\n",
       "    </tr>\n",
       "  </tbody>\n",
       "</table>\n",
       "</div>"
      ],
      "text/plain": [
       "                                     id    name  \\\n",
       "0  35dc3e90-8679-11e6-bda3-ef77801087ee  Masaya   \n",
       "\n",
       "                                         description  \\\n",
       "0  This is the world's biggest, baddest, most evi...   \n",
       "\n",
       "                                   location   status  \\\n",
       "0  {11.985318299999999,-86.178342900000004}  OFFLINE   \n",
       "\n",
       "                        created_at                       updated_at  \n",
       "0 2016-09-29 19:16:23.419000+00:00 2016-10-07 07:43:05.015000+00:00  "
      ]
     },
     "execution_count": 8,
     "metadata": {},
     "output_type": "execute_result"
    }
   ],
   "source": [
    "#view first five rows\n",
    "data_volcanos.head()"
   ]
  },
  {
   "cell_type": "code",
   "execution_count": 9,
   "metadata": {},
   "outputs": [
    {
     "name": "stdout",
     "output_type": "stream",
     "text": [
      "datetime64[ns, UTC]\n",
      "datetime64[ns, UTC]\n",
      "datetime64[ns, UTC]\n"
     ]
    }
   ],
   "source": [
    "#check timestamp datatype\n",
    "print(data_point['timestamp'].dtypes)\n",
    "print(data_sensors['created_at'].dtypes)\n",
    "print(data_sensors['updated_at'].dtypes)"
   ]
  },
  {
   "cell_type": "markdown",
   "metadata": {},
   "source": [
    "### 2. Plotting Sensor Time Series\n",
    "\n",
    "Create separate plots for each sensor in the dataset. Show each one in a separate subplot.\n",
    "\n",
    "**What (if anything) can we tell about the various sensors from the plots?**\n"
   ]
  },
  {
   "cell_type": "code",
   "execution_count": null,
   "metadata": {},
   "outputs": [],
   "source": [
    "df_point = pd.DataFrame(data_point)\n",
    "df_group = df_point.groupby(['sensor_id']).sum()\n",
    "df_group"
   ]
  },
  {
   "cell_type": "code",
   "execution_count": null,
   "metadata": {},
   "outputs": [],
   "source": [
    "plt.plot(df_group['sensor_id'], df_group['value'])\n",
    "plt.title('')\n",
    "plt.xlabel('Sensor Id')\n",
    "plt.ylabel('Sensor value')\n",
    "plt.show()"
   ]
  },
  {
   "cell_type": "markdown",
   "metadata": {},
   "source": [
    "### 3.0 Descriptive Analysis One data frame at a time\n",
    "\n"
   ]
  },
  {
   "cell_type": "markdown",
   "metadata": {},
   "source": [
    "You have two data frames: `sensors` and `types` Merge each sensor_id with its type. (Hint: Use `pd.merge()`)\n",
    "\n"
   ]
  },
  {
   "cell_type": "code",
   "execution_count": 10,
   "metadata": {},
   "outputs": [
    {
     "data": {
      "text/html": [
       "<div>\n",
       "<style scoped>\n",
       "    .dataframe tbody tr th:only-of-type {\n",
       "        vertical-align: middle;\n",
       "    }\n",
       "\n",
       "    .dataframe tbody tr th {\n",
       "        vertical-align: top;\n",
       "    }\n",
       "\n",
       "    .dataframe thead th {\n",
       "        text-align: right;\n",
       "    }\n",
       "</style>\n",
       "<table border=\"1\" class=\"dataframe\">\n",
       "  <thead>\n",
       "    <tr style=\"text-align: right;\">\n",
       "      <th></th>\n",
       "      <th>id_x</th>\n",
       "      <th>type</th>\n",
       "      <th>si_unit</th>\n",
       "      <th>type_id</th>\n",
       "      <th>id_y</th>\n",
       "      <th>description</th>\n",
       "      <th>data_frequency</th>\n",
       "      <th>status</th>\n",
       "      <th>created_at</th>\n",
       "      <th>updated_at</th>\n",
       "      <th>data_type_id</th>\n",
       "      <th>node_id</th>\n",
       "    </tr>\n",
       "  </thead>\n",
       "  <tbody>\n",
       "    <tr>\n",
       "      <td>0</td>\n",
       "      <td>35dcb3c0-8679-11e6-bda3-ef77801087ee</td>\n",
       "      <td>temperature</td>\n",
       "      <td>celcius</td>\n",
       "      <td>TCA</td>\n",
       "      <td>763ca6f0-8679-11e6-a353-2f6c041e2491</td>\n",
       "      <td>\\N</td>\n",
       "      <td>1800000</td>\n",
       "      <td>OFFLINE</td>\n",
       "      <td>2016-08-03 04:39:25+00:00</td>\n",
       "      <td>2016-09-29 20:13:52.803000+00:00</td>\n",
       "      <td>35dcb3c0-8679-11e6-bda3-ef77801087ee</td>\n",
       "      <td>762b8ff0-8679-11e6-a353-2f6c041e2491</td>\n",
       "    </tr>\n",
       "    <tr>\n",
       "      <td>1</td>\n",
       "      <td>35dcb3c0-8679-11e6-bda3-ef77801087ee</td>\n",
       "      <td>temperature</td>\n",
       "      <td>celcius</td>\n",
       "      <td>TCA</td>\n",
       "      <td>c15a6371-8679-11e6-a353-2f6c041e2491</td>\n",
       "      <td>\\N</td>\n",
       "      <td>1800000</td>\n",
       "      <td>OFFLINE</td>\n",
       "      <td>2016-08-07 00:51:40+00:00</td>\n",
       "      <td>2016-09-29 20:13:52.836000+00:00</td>\n",
       "      <td>35dcb3c0-8679-11e6-bda3-ef77801087ee</td>\n",
       "      <td>c147ece0-8679-11e6-a353-2f6c041e2491</td>\n",
       "    </tr>\n",
       "    <tr>\n",
       "      <td>2</td>\n",
       "      <td>35dcb3c0-8679-11e6-bda3-ef77801087ee</td>\n",
       "      <td>temperature</td>\n",
       "      <td>celcius</td>\n",
       "      <td>TCA</td>\n",
       "      <td>7644bd40-8679-11e6-a353-2f6c041e2491</td>\n",
       "      <td>\\N</td>\n",
       "      <td>1800000</td>\n",
       "      <td>OFFLINE</td>\n",
       "      <td>2016-08-03 22:09:40+00:00</td>\n",
       "      <td>2016-09-29 19:20:17.417000+00:00</td>\n",
       "      <td>35dcb3c0-8679-11e6-bda3-ef77801087ee</td>\n",
       "      <td>76309900-8679-11e6-a353-2f6c041e2491</td>\n",
       "    </tr>\n",
       "    <tr>\n",
       "      <td>3</td>\n",
       "      <td>35dcb3c0-8679-11e6-bda3-ef77801087ee</td>\n",
       "      <td>temperature</td>\n",
       "      <td>celcius</td>\n",
       "      <td>TCA</td>\n",
       "      <td>c15f9391-8679-11e6-a353-2f6c041e2491</td>\n",
       "      <td>\\N</td>\n",
       "      <td>1800000</td>\n",
       "      <td>OFFLINE</td>\n",
       "      <td>2016-08-10 04:20:22+00:00</td>\n",
       "      <td>2016-09-29 19:20:17.516000+00:00</td>\n",
       "      <td>35dcb3c0-8679-11e6-bda3-ef77801087ee</td>\n",
       "      <td>c14ccee0-8679-11e6-a353-2f6c041e2491</td>\n",
       "    </tr>\n",
       "    <tr>\n",
       "      <td>4</td>\n",
       "      <td>35dcb3c0-8679-11e6-bda3-ef77801087ee</td>\n",
       "      <td>temperature</td>\n",
       "      <td>celcius</td>\n",
       "      <td>TCA</td>\n",
       "      <td>763bbc90-8679-11e6-a353-2f6c041e2491</td>\n",
       "      <td>\\N</td>\n",
       "      <td>1800000</td>\n",
       "      <td>OFFLINE</td>\n",
       "      <td>2016-08-03 21:50:32+00:00</td>\n",
       "      <td>2016-09-30 18:12:04.578000+00:00</td>\n",
       "      <td>35dcb3c0-8679-11e6-bda3-ef77801087ee</td>\n",
       "      <td>762c5340-8679-11e6-a353-2f6c041e2491</td>\n",
       "    </tr>\n",
       "  </tbody>\n",
       "</table>\n",
       "</div>"
      ],
      "text/plain": [
       "                                   id_x         type  si_unit type_id  \\\n",
       "0  35dcb3c0-8679-11e6-bda3-ef77801087ee  temperature  celcius     TCA   \n",
       "1  35dcb3c0-8679-11e6-bda3-ef77801087ee  temperature  celcius     TCA   \n",
       "2  35dcb3c0-8679-11e6-bda3-ef77801087ee  temperature  celcius     TCA   \n",
       "3  35dcb3c0-8679-11e6-bda3-ef77801087ee  temperature  celcius     TCA   \n",
       "4  35dcb3c0-8679-11e6-bda3-ef77801087ee  temperature  celcius     TCA   \n",
       "\n",
       "                                   id_y description  data_frequency   status  \\\n",
       "0  763ca6f0-8679-11e6-a353-2f6c041e2491          \\N         1800000  OFFLINE   \n",
       "1  c15a6371-8679-11e6-a353-2f6c041e2491          \\N         1800000  OFFLINE   \n",
       "2  7644bd40-8679-11e6-a353-2f6c041e2491          \\N         1800000  OFFLINE   \n",
       "3  c15f9391-8679-11e6-a353-2f6c041e2491          \\N         1800000  OFFLINE   \n",
       "4  763bbc90-8679-11e6-a353-2f6c041e2491          \\N         1800000  OFFLINE   \n",
       "\n",
       "                 created_at                       updated_at  \\\n",
       "0 2016-08-03 04:39:25+00:00 2016-09-29 20:13:52.803000+00:00   \n",
       "1 2016-08-07 00:51:40+00:00 2016-09-29 20:13:52.836000+00:00   \n",
       "2 2016-08-03 22:09:40+00:00 2016-09-29 19:20:17.417000+00:00   \n",
       "3 2016-08-10 04:20:22+00:00 2016-09-29 19:20:17.516000+00:00   \n",
       "4 2016-08-03 21:50:32+00:00 2016-09-30 18:12:04.578000+00:00   \n",
       "\n",
       "                           data_type_id                               node_id  \n",
       "0  35dcb3c0-8679-11e6-bda3-ef77801087ee  762b8ff0-8679-11e6-a353-2f6c041e2491  \n",
       "1  35dcb3c0-8679-11e6-bda3-ef77801087ee  c147ece0-8679-11e6-a353-2f6c041e2491  \n",
       "2  35dcb3c0-8679-11e6-bda3-ef77801087ee  76309900-8679-11e6-a353-2f6c041e2491  \n",
       "3  35dcb3c0-8679-11e6-bda3-ef77801087ee  c14ccee0-8679-11e6-a353-2f6c041e2491  \n",
       "4  35dcb3c0-8679-11e6-bda3-ef77801087ee  762c5340-8679-11e6-a353-2f6c041e2491  "
      ]
     },
     "execution_count": 10,
     "metadata": {},
     "output_type": "execute_result"
    }
   ],
   "source": [
    "#merge each sensor_id with its type.\n",
    "df_types = pd.DataFrame(data_types)\n",
    "df_sensors = pd.DataFrame(data_sensors)\n",
    "\n",
    "sensors_type = df_types.merge(df_sensors, left_on='id', right_on='data_type_id')  \n",
    "sensors_type.head()"
   ]
  },
  {
   "cell_type": "markdown",
   "metadata": {},
   "source": [
    "3.1 Question: What does this achieve? Why should we do this?"
   ]
  },
  {
   "cell_type": "code",
   "execution_count": null,
   "metadata": {},
   "outputs": [],
   "source": []
  },
  {
   "cell_type": "markdown",
   "metadata": {},
   "source": [
    "3.2: How many sensors of each type are there?"
   ]
  },
  {
   "cell_type": "code",
   "execution_count": 11,
   "metadata": {},
   "outputs": [
    {
     "data": {
      "text/html": [
       "<div>\n",
       "<style scoped>\n",
       "    .dataframe tbody tr th:only-of-type {\n",
       "        vertical-align: middle;\n",
       "    }\n",
       "\n",
       "    .dataframe tbody tr th {\n",
       "        vertical-align: top;\n",
       "    }\n",
       "\n",
       "    .dataframe thead th {\n",
       "        text-align: right;\n",
       "    }\n",
       "</style>\n",
       "<table border=\"1\" class=\"dataframe\">\n",
       "  <thead>\n",
       "    <tr style=\"text-align: right;\">\n",
       "      <th></th>\n",
       "      <th>id_x</th>\n",
       "      <th>si_unit</th>\n",
       "      <th>type_id</th>\n",
       "      <th>id_y</th>\n",
       "      <th>description</th>\n",
       "      <th>data_frequency</th>\n",
       "      <th>status</th>\n",
       "      <th>created_at</th>\n",
       "      <th>updated_at</th>\n",
       "      <th>data_type_id</th>\n",
       "      <th>node_id</th>\n",
       "    </tr>\n",
       "    <tr>\n",
       "      <th>type</th>\n",
       "      <th></th>\n",
       "      <th></th>\n",
       "      <th></th>\n",
       "      <th></th>\n",
       "      <th></th>\n",
       "      <th></th>\n",
       "      <th></th>\n",
       "      <th></th>\n",
       "      <th></th>\n",
       "      <th></th>\n",
       "      <th></th>\n",
       "    </tr>\n",
       "  </thead>\n",
       "  <tbody>\n",
       "    <tr>\n",
       "      <td>RSAM</td>\n",
       "      <td>1</td>\n",
       "      <td>1</td>\n",
       "      <td>1</td>\n",
       "      <td>1</td>\n",
       "      <td>1</td>\n",
       "      <td>1</td>\n",
       "      <td>1</td>\n",
       "      <td>1</td>\n",
       "      <td>1</td>\n",
       "      <td>1</td>\n",
       "      <td>1</td>\n",
       "    </tr>\n",
       "    <tr>\n",
       "      <td>battery</td>\n",
       "      <td>10</td>\n",
       "      <td>10</td>\n",
       "      <td>10</td>\n",
       "      <td>10</td>\n",
       "      <td>10</td>\n",
       "      <td>10</td>\n",
       "      <td>10</td>\n",
       "      <td>10</td>\n",
       "      <td>10</td>\n",
       "      <td>10</td>\n",
       "      <td>10</td>\n",
       "    </tr>\n",
       "    <tr>\n",
       "      <td>carbon dioxide concentration</td>\n",
       "      <td>10</td>\n",
       "      <td>10</td>\n",
       "      <td>10</td>\n",
       "      <td>10</td>\n",
       "      <td>10</td>\n",
       "      <td>10</td>\n",
       "      <td>10</td>\n",
       "      <td>10</td>\n",
       "      <td>10</td>\n",
       "      <td>10</td>\n",
       "      <td>10</td>\n",
       "    </tr>\n",
       "    <tr>\n",
       "      <td>humidity</td>\n",
       "      <td>10</td>\n",
       "      <td>10</td>\n",
       "      <td>10</td>\n",
       "      <td>10</td>\n",
       "      <td>10</td>\n",
       "      <td>10</td>\n",
       "      <td>10</td>\n",
       "      <td>10</td>\n",
       "      <td>10</td>\n",
       "      <td>10</td>\n",
       "      <td>10</td>\n",
       "    </tr>\n",
       "    <tr>\n",
       "      <td>hydrogen sulfide concentration</td>\n",
       "      <td>10</td>\n",
       "      <td>10</td>\n",
       "      <td>10</td>\n",
       "      <td>10</td>\n",
       "      <td>10</td>\n",
       "      <td>10</td>\n",
       "      <td>10</td>\n",
       "      <td>10</td>\n",
       "      <td>10</td>\n",
       "      <td>10</td>\n",
       "      <td>10</td>\n",
       "    </tr>\n",
       "    <tr>\n",
       "      <td>pressure</td>\n",
       "      <td>10</td>\n",
       "      <td>10</td>\n",
       "      <td>10</td>\n",
       "      <td>10</td>\n",
       "      <td>10</td>\n",
       "      <td>10</td>\n",
       "      <td>10</td>\n",
       "      <td>10</td>\n",
       "      <td>10</td>\n",
       "      <td>10</td>\n",
       "      <td>10</td>\n",
       "    </tr>\n",
       "    <tr>\n",
       "      <td>temperature</td>\n",
       "      <td>10</td>\n",
       "      <td>10</td>\n",
       "      <td>10</td>\n",
       "      <td>10</td>\n",
       "      <td>10</td>\n",
       "      <td>10</td>\n",
       "      <td>10</td>\n",
       "      <td>10</td>\n",
       "      <td>10</td>\n",
       "      <td>10</td>\n",
       "      <td>10</td>\n",
       "    </tr>\n",
       "  </tbody>\n",
       "</table>\n",
       "</div>"
      ],
      "text/plain": [
       "                                id_x  si_unit  type_id  id_y  description  \\\n",
       "type                                                                        \n",
       "RSAM                               1        1        1     1            1   \n",
       "battery                           10       10       10    10           10   \n",
       "carbon dioxide concentration      10       10       10    10           10   \n",
       "humidity                          10       10       10    10           10   \n",
       "hydrogen sulfide concentration    10       10       10    10           10   \n",
       "pressure                          10       10       10    10           10   \n",
       "temperature                       10       10       10    10           10   \n",
       "\n",
       "                                data_frequency  status  created_at  \\\n",
       "type                                                                 \n",
       "RSAM                                         1       1           1   \n",
       "battery                                     10      10          10   \n",
       "carbon dioxide concentration                10      10          10   \n",
       "humidity                                    10      10          10   \n",
       "hydrogen sulfide concentration              10      10          10   \n",
       "pressure                                    10      10          10   \n",
       "temperature                                 10      10          10   \n",
       "\n",
       "                                updated_at  data_type_id  node_id  \n",
       "type                                                               \n",
       "RSAM                                     1             1        1  \n",
       "battery                                 10            10       10  \n",
       "carbon dioxide concentration            10            10       10  \n",
       "humidity                                10            10       10  \n",
       "hydrogen sulfide concentration          10            10       10  \n",
       "pressure                                10            10       10  \n",
       "temperature                             10            10       10  "
      ]
     },
     "execution_count": 11,
     "metadata": {},
     "output_type": "execute_result"
    }
   ],
   "source": [
    "#group by type then count to show number of sensors by type\n",
    "sensors = sensors_type.groupby(['type']).count()\n",
    "sensors"
   ]
  },
  {
   "cell_type": "markdown",
   "metadata": {},
   "source": [
    "----\n",
    "\n",
    "### 4.0 Creating a Digital Thread from the data sets**\n",
    "\n",
    "**Goal: Merge everything into one wide data table ** "
   ]
  },
  {
   "cell_type": "markdown",
   "metadata": {},
   "source": [
    "Take the raw `datapoints` data frame and merge it with all the `sensors` and their types."
   ]
  },
  {
   "cell_type": "code",
   "execution_count": 12,
   "metadata": {},
   "outputs": [
    {
     "data": {
      "text/html": [
       "<div>\n",
       "<style scoped>\n",
       "    .dataframe tbody tr th:only-of-type {\n",
       "        vertical-align: middle;\n",
       "    }\n",
       "\n",
       "    .dataframe tbody tr th {\n",
       "        vertical-align: top;\n",
       "    }\n",
       "\n",
       "    .dataframe thead th {\n",
       "        text-align: right;\n",
       "    }\n",
       "</style>\n",
       "<table border=\"1\" class=\"dataframe\">\n",
       "  <thead>\n",
       "    <tr style=\"text-align: right;\">\n",
       "      <th></th>\n",
       "      <th>id_x</th>\n",
       "      <th>type</th>\n",
       "      <th>si_unit</th>\n",
       "      <th>type_id</th>\n",
       "      <th>id_y</th>\n",
       "      <th>description</th>\n",
       "      <th>data_frequency</th>\n",
       "      <th>status</th>\n",
       "      <th>created_at</th>\n",
       "      <th>updated_at</th>\n",
       "      <th>data_type_id</th>\n",
       "      <th>node_id</th>\n",
       "      <th>id</th>\n",
       "      <th>value</th>\n",
       "      <th>timestamp</th>\n",
       "      <th>sensor_id</th>\n",
       "    </tr>\n",
       "  </thead>\n",
       "  <tbody>\n",
       "    <tr>\n",
       "      <td>0</td>\n",
       "      <td>35dcb3c0-8679-11e6-bda3-ef77801087ee</td>\n",
       "      <td>temperature</td>\n",
       "      <td>celcius</td>\n",
       "      <td>TCA</td>\n",
       "      <td>763ca6f0-8679-11e6-a353-2f6c041e2491</td>\n",
       "      <td>\\N</td>\n",
       "      <td>1800000</td>\n",
       "      <td>OFFLINE</td>\n",
       "      <td>2016-08-03 04:39:25+00:00</td>\n",
       "      <td>2016-09-29 20:13:52.803000+00:00</td>\n",
       "      <td>35dcb3c0-8679-11e6-bda3-ef77801087ee</td>\n",
       "      <td>762b8ff0-8679-11e6-a353-2f6c041e2491</td>\n",
       "      <td>764dbdf0-8679-11e6-a353-2f6c041e2491</td>\n",
       "      <td>29.30</td>\n",
       "      <td>2016-08-03 04:39:25+00:00</td>\n",
       "      <td>763ca6f0-8679-11e6-a353-2f6c041e2491</td>\n",
       "    </tr>\n",
       "    <tr>\n",
       "      <td>1</td>\n",
       "      <td>35dcb3c0-8679-11e6-bda3-ef77801087ee</td>\n",
       "      <td>temperature</td>\n",
       "      <td>celcius</td>\n",
       "      <td>TCA</td>\n",
       "      <td>763ca6f0-8679-11e6-a353-2f6c041e2491</td>\n",
       "      <td>\\N</td>\n",
       "      <td>1800000</td>\n",
       "      <td>OFFLINE</td>\n",
       "      <td>2016-08-03 04:39:25+00:00</td>\n",
       "      <td>2016-09-29 20:13:52.803000+00:00</td>\n",
       "      <td>35dcb3c0-8679-11e6-bda3-ef77801087ee</td>\n",
       "      <td>762b8ff0-8679-11e6-a353-2f6c041e2491</td>\n",
       "      <td>76514060-8679-11e6-a353-2f6c041e2491</td>\n",
       "      <td>29.94</td>\n",
       "      <td>2016-08-03 04:47:41+00:00</td>\n",
       "      <td>763ca6f0-8679-11e6-a353-2f6c041e2491</td>\n",
       "    </tr>\n",
       "    <tr>\n",
       "      <td>2</td>\n",
       "      <td>35dcb3c0-8679-11e6-bda3-ef77801087ee</td>\n",
       "      <td>temperature</td>\n",
       "      <td>celcius</td>\n",
       "      <td>TCA</td>\n",
       "      <td>763ca6f0-8679-11e6-a353-2f6c041e2491</td>\n",
       "      <td>\\N</td>\n",
       "      <td>1800000</td>\n",
       "      <td>OFFLINE</td>\n",
       "      <td>2016-08-03 04:39:25+00:00</td>\n",
       "      <td>2016-09-29 20:13:52.803000+00:00</td>\n",
       "      <td>35dcb3c0-8679-11e6-bda3-ef77801087ee</td>\n",
       "      <td>762b8ff0-8679-11e6-a353-2f6c041e2491</td>\n",
       "      <td>76584540-8679-11e6-a353-2f6c041e2491</td>\n",
       "      <td>28.61</td>\n",
       "      <td>2016-08-03 05:08:52+00:00</td>\n",
       "      <td>763ca6f0-8679-11e6-a353-2f6c041e2491</td>\n",
       "    </tr>\n",
       "    <tr>\n",
       "      <td>3</td>\n",
       "      <td>35dcb3c0-8679-11e6-bda3-ef77801087ee</td>\n",
       "      <td>temperature</td>\n",
       "      <td>celcius</td>\n",
       "      <td>TCA</td>\n",
       "      <td>763ca6f0-8679-11e6-a353-2f6c041e2491</td>\n",
       "      <td>\\N</td>\n",
       "      <td>1800000</td>\n",
       "      <td>OFFLINE</td>\n",
       "      <td>2016-08-03 04:39:25+00:00</td>\n",
       "      <td>2016-09-29 20:13:52.803000+00:00</td>\n",
       "      <td>35dcb3c0-8679-11e6-bda3-ef77801087ee</td>\n",
       "      <td>762b8ff0-8679-11e6-a353-2f6c041e2491</td>\n",
       "      <td>765dea91-8679-11e6-a353-2f6c041e2491</td>\n",
       "      <td>28.24</td>\n",
       "      <td>2016-08-03 05:14:08+00:00</td>\n",
       "      <td>763ca6f0-8679-11e6-a353-2f6c041e2491</td>\n",
       "    </tr>\n",
       "    <tr>\n",
       "      <td>4</td>\n",
       "      <td>35dcb3c0-8679-11e6-bda3-ef77801087ee</td>\n",
       "      <td>temperature</td>\n",
       "      <td>celcius</td>\n",
       "      <td>TCA</td>\n",
       "      <td>763ca6f0-8679-11e6-a353-2f6c041e2491</td>\n",
       "      <td>\\N</td>\n",
       "      <td>1800000</td>\n",
       "      <td>OFFLINE</td>\n",
       "      <td>2016-08-03 04:39:25+00:00</td>\n",
       "      <td>2016-09-29 20:13:52.803000+00:00</td>\n",
       "      <td>35dcb3c0-8679-11e6-bda3-ef77801087ee</td>\n",
       "      <td>762b8ff0-8679-11e6-a353-2f6c041e2491</td>\n",
       "      <td>7661bb20-8679-11e6-a353-2f6c041e2491</td>\n",
       "      <td>28.57</td>\n",
       "      <td>2016-08-03 05:28:55+00:00</td>\n",
       "      <td>763ca6f0-8679-11e6-a353-2f6c041e2491</td>\n",
       "    </tr>\n",
       "  </tbody>\n",
       "</table>\n",
       "</div>"
      ],
      "text/plain": [
       "                                   id_x         type  si_unit type_id  \\\n",
       "0  35dcb3c0-8679-11e6-bda3-ef77801087ee  temperature  celcius     TCA   \n",
       "1  35dcb3c0-8679-11e6-bda3-ef77801087ee  temperature  celcius     TCA   \n",
       "2  35dcb3c0-8679-11e6-bda3-ef77801087ee  temperature  celcius     TCA   \n",
       "3  35dcb3c0-8679-11e6-bda3-ef77801087ee  temperature  celcius     TCA   \n",
       "4  35dcb3c0-8679-11e6-bda3-ef77801087ee  temperature  celcius     TCA   \n",
       "\n",
       "                                   id_y description  data_frequency   status  \\\n",
       "0  763ca6f0-8679-11e6-a353-2f6c041e2491          \\N         1800000  OFFLINE   \n",
       "1  763ca6f0-8679-11e6-a353-2f6c041e2491          \\N         1800000  OFFLINE   \n",
       "2  763ca6f0-8679-11e6-a353-2f6c041e2491          \\N         1800000  OFFLINE   \n",
       "3  763ca6f0-8679-11e6-a353-2f6c041e2491          \\N         1800000  OFFLINE   \n",
       "4  763ca6f0-8679-11e6-a353-2f6c041e2491          \\N         1800000  OFFLINE   \n",
       "\n",
       "                 created_at                       updated_at  \\\n",
       "0 2016-08-03 04:39:25+00:00 2016-09-29 20:13:52.803000+00:00   \n",
       "1 2016-08-03 04:39:25+00:00 2016-09-29 20:13:52.803000+00:00   \n",
       "2 2016-08-03 04:39:25+00:00 2016-09-29 20:13:52.803000+00:00   \n",
       "3 2016-08-03 04:39:25+00:00 2016-09-29 20:13:52.803000+00:00   \n",
       "4 2016-08-03 04:39:25+00:00 2016-09-29 20:13:52.803000+00:00   \n",
       "\n",
       "                           data_type_id                               node_id  \\\n",
       "0  35dcb3c0-8679-11e6-bda3-ef77801087ee  762b8ff0-8679-11e6-a353-2f6c041e2491   \n",
       "1  35dcb3c0-8679-11e6-bda3-ef77801087ee  762b8ff0-8679-11e6-a353-2f6c041e2491   \n",
       "2  35dcb3c0-8679-11e6-bda3-ef77801087ee  762b8ff0-8679-11e6-a353-2f6c041e2491   \n",
       "3  35dcb3c0-8679-11e6-bda3-ef77801087ee  762b8ff0-8679-11e6-a353-2f6c041e2491   \n",
       "4  35dcb3c0-8679-11e6-bda3-ef77801087ee  762b8ff0-8679-11e6-a353-2f6c041e2491   \n",
       "\n",
       "                                     id  value                 timestamp  \\\n",
       "0  764dbdf0-8679-11e6-a353-2f6c041e2491  29.30 2016-08-03 04:39:25+00:00   \n",
       "1  76514060-8679-11e6-a353-2f6c041e2491  29.94 2016-08-03 04:47:41+00:00   \n",
       "2  76584540-8679-11e6-a353-2f6c041e2491  28.61 2016-08-03 05:08:52+00:00   \n",
       "3  765dea91-8679-11e6-a353-2f6c041e2491  28.24 2016-08-03 05:14:08+00:00   \n",
       "4  7661bb20-8679-11e6-a353-2f6c041e2491  28.57 2016-08-03 05:28:55+00:00   \n",
       "\n",
       "                              sensor_id  \n",
       "0  763ca6f0-8679-11e6-a353-2f6c041e2491  \n",
       "1  763ca6f0-8679-11e6-a353-2f6c041e2491  \n",
       "2  763ca6f0-8679-11e6-a353-2f6c041e2491  \n",
       "3  763ca6f0-8679-11e6-a353-2f6c041e2491  \n",
       "4  763ca6f0-8679-11e6-a353-2f6c041e2491  "
      ]
     },
     "execution_count": 12,
     "metadata": {},
     "output_type": "execute_result"
    }
   ],
   "source": [
    "#merge everything\n",
    "df_point = pd.DataFrame(data_point)\n",
    "   \n",
    "data_all = df_types.merge(df_sensors, left_on='id', right_on='data_type_id').merge(df_point, left_on='id_y', right_on='sensor_id')\n",
    "data_all.head()"
   ]
  },
  {
   "cell_type": "markdown",
   "metadata": {},
   "source": [
    "-----"
   ]
  },
  {
   "cell_type": "markdown",
   "metadata": {},
   "source": [
    "### 5.0 Time Series based analysis\n",
    "\n",
    "Now, we are going to take this stitched data frame and use it for our analysis. Specifically, we are going to perform Time-based analysis on this data.\n",
    "\n",
    "     Note: If by this point the time stamp is not in datetime format, make sure it is in datetime format.\n",
    "    Step 1: Resample the dataset to the daily level. (One observation per date)\n",
    "    Step 2: For the resampled data, calculate the daily mean, min and max values for each sensor id."
   ]
  },
  {
   "cell_type": "markdown",
   "metadata": {},
   "source": [
    "Resample to get daily averages.\n",
    "Then subset to select the columns you need.\n",
    "\n",
    "Present the data in a summary similar to the example presented below:\n"
   ]
  },
  {
   "cell_type": "markdown",
   "metadata": {},
   "source": [
    "![title](example-1.png)"
   ]
  },
  {
   "cell_type": "code",
   "execution_count": 13,
   "metadata": {},
   "outputs": [
    {
     "data": {
      "text/html": [
       "<div>\n",
       "<style scoped>\n",
       "    .dataframe tbody tr th:only-of-type {\n",
       "        vertical-align: middle;\n",
       "    }\n",
       "\n",
       "    .dataframe tbody tr th {\n",
       "        vertical-align: top;\n",
       "    }\n",
       "\n",
       "    .dataframe thead tr th {\n",
       "        text-align: left;\n",
       "    }\n",
       "\n",
       "    .dataframe thead tr:last-of-type th {\n",
       "        text-align: right;\n",
       "    }\n",
       "</style>\n",
       "<table border=\"1\" class=\"dataframe\">\n",
       "  <thead>\n",
       "    <tr>\n",
       "      <th></th>\n",
       "      <th></th>\n",
       "      <th></th>\n",
       "      <th colspan=\"3\" halign=\"left\">value</th>\n",
       "    </tr>\n",
       "    <tr>\n",
       "      <th></th>\n",
       "      <th></th>\n",
       "      <th></th>\n",
       "      <th>mean</th>\n",
       "      <th>min</th>\n",
       "      <th>max</th>\n",
       "    </tr>\n",
       "    <tr>\n",
       "      <th>sensor_id</th>\n",
       "      <th>type</th>\n",
       "      <th>timestamp</th>\n",
       "      <th></th>\n",
       "      <th></th>\n",
       "      <th></th>\n",
       "    </tr>\n",
       "  </thead>\n",
       "  <tbody>\n",
       "    <tr>\n",
       "      <td rowspan=\"5\" valign=\"top\">1248ff60-e707-11e6-89c8-314aa4f67f8c</td>\n",
       "      <td rowspan=\"5\" valign=\"top\">RSAM</td>\n",
       "      <td>2016-07-01 00:00:00+00:00</td>\n",
       "      <td>306.902098</td>\n",
       "      <td>81.0</td>\n",
       "      <td>683.0</td>\n",
       "    </tr>\n",
       "    <tr>\n",
       "      <td>2016-07-02 00:00:00+00:00</td>\n",
       "      <td>267.804196</td>\n",
       "      <td>113.0</td>\n",
       "      <td>558.0</td>\n",
       "    </tr>\n",
       "    <tr>\n",
       "      <td>2016-07-03 00:00:00+00:00</td>\n",
       "      <td>286.972028</td>\n",
       "      <td>109.0</td>\n",
       "      <td>513.0</td>\n",
       "    </tr>\n",
       "    <tr>\n",
       "      <td>2016-07-04 00:00:00+00:00</td>\n",
       "      <td>339.860140</td>\n",
       "      <td>89.0</td>\n",
       "      <td>637.0</td>\n",
       "    </tr>\n",
       "    <tr>\n",
       "      <td>2016-07-05 00:00:00+00:00</td>\n",
       "      <td>445.828571</td>\n",
       "      <td>124.0</td>\n",
       "      <td>612.0</td>\n",
       "    </tr>\n",
       "    <tr>\n",
       "      <td>...</td>\n",
       "      <td>...</td>\n",
       "      <td>...</td>\n",
       "      <td>...</td>\n",
       "      <td>...</td>\n",
       "      <td>...</td>\n",
       "    </tr>\n",
       "    <tr>\n",
       "      <td rowspan=\"5\" valign=\"top\">e6691530-8679-11e6-a353-2f6c041e2491</td>\n",
       "      <td rowspan=\"5\" valign=\"top\">humidity</td>\n",
       "      <td>2016-09-03 00:00:00+00:00</td>\n",
       "      <td>NaN</td>\n",
       "      <td>NaN</td>\n",
       "      <td>NaN</td>\n",
       "    </tr>\n",
       "    <tr>\n",
       "      <td>2016-09-04 00:00:00+00:00</td>\n",
       "      <td>NaN</td>\n",
       "      <td>NaN</td>\n",
       "      <td>NaN</td>\n",
       "    </tr>\n",
       "    <tr>\n",
       "      <td>2016-09-05 00:00:00+00:00</td>\n",
       "      <td>NaN</td>\n",
       "      <td>NaN</td>\n",
       "      <td>NaN</td>\n",
       "    </tr>\n",
       "    <tr>\n",
       "      <td>2016-09-06 00:00:00+00:00</td>\n",
       "      <td>NaN</td>\n",
       "      <td>NaN</td>\n",
       "      <td>NaN</td>\n",
       "    </tr>\n",
       "    <tr>\n",
       "      <td>2016-09-07 00:00:00+00:00</td>\n",
       "      <td>NaN</td>\n",
       "      <td>NaN</td>\n",
       "      <td>NaN</td>\n",
       "    </tr>\n",
       "  </tbody>\n",
       "</table>\n",
       "<p>2234 rows × 3 columns</p>\n",
       "</div>"
      ],
      "text/plain": [
       "                                                                              value  \\\n",
       "                                                                               mean   \n",
       "sensor_id                            type     timestamp                               \n",
       "1248ff60-e707-11e6-89c8-314aa4f67f8c RSAM     2016-07-01 00:00:00+00:00  306.902098   \n",
       "                                              2016-07-02 00:00:00+00:00  267.804196   \n",
       "                                              2016-07-03 00:00:00+00:00  286.972028   \n",
       "                                              2016-07-04 00:00:00+00:00  339.860140   \n",
       "                                              2016-07-05 00:00:00+00:00  445.828571   \n",
       "...                                                                             ...   \n",
       "e6691530-8679-11e6-a353-2f6c041e2491 humidity 2016-09-03 00:00:00+00:00         NaN   \n",
       "                                              2016-09-04 00:00:00+00:00         NaN   \n",
       "                                              2016-09-05 00:00:00+00:00         NaN   \n",
       "                                              2016-09-06 00:00:00+00:00         NaN   \n",
       "                                              2016-09-07 00:00:00+00:00         NaN   \n",
       "\n",
       "                                                                                \\\n",
       "                                                                           min   \n",
       "sensor_id                            type     timestamp                          \n",
       "1248ff60-e707-11e6-89c8-314aa4f67f8c RSAM     2016-07-01 00:00:00+00:00   81.0   \n",
       "                                              2016-07-02 00:00:00+00:00  113.0   \n",
       "                                              2016-07-03 00:00:00+00:00  109.0   \n",
       "                                              2016-07-04 00:00:00+00:00   89.0   \n",
       "                                              2016-07-05 00:00:00+00:00  124.0   \n",
       "...                                                                        ...   \n",
       "e6691530-8679-11e6-a353-2f6c041e2491 humidity 2016-09-03 00:00:00+00:00    NaN   \n",
       "                                              2016-09-04 00:00:00+00:00    NaN   \n",
       "                                              2016-09-05 00:00:00+00:00    NaN   \n",
       "                                              2016-09-06 00:00:00+00:00    NaN   \n",
       "                                              2016-09-07 00:00:00+00:00    NaN   \n",
       "\n",
       "                                                                                \n",
       "                                                                           max  \n",
       "sensor_id                            type     timestamp                         \n",
       "1248ff60-e707-11e6-89c8-314aa4f67f8c RSAM     2016-07-01 00:00:00+00:00  683.0  \n",
       "                                              2016-07-02 00:00:00+00:00  558.0  \n",
       "                                              2016-07-03 00:00:00+00:00  513.0  \n",
       "                                              2016-07-04 00:00:00+00:00  637.0  \n",
       "                                              2016-07-05 00:00:00+00:00  612.0  \n",
       "...                                                                        ...  \n",
       "e6691530-8679-11e6-a353-2f6c041e2491 humidity 2016-09-03 00:00:00+00:00    NaN  \n",
       "                                              2016-09-04 00:00:00+00:00    NaN  \n",
       "                                              2016-09-05 00:00:00+00:00    NaN  \n",
       "                                              2016-09-06 00:00:00+00:00    NaN  \n",
       "                                              2016-09-07 00:00:00+00:00    NaN  \n",
       "\n",
       "[2234 rows x 3 columns]"
      ]
     },
     "execution_count": 13,
     "metadata": {},
     "output_type": "execute_result"
    }
   ],
   "source": [
    "#resample data_set to daily and calculate the daily mean, min and max values for each sensor id\n",
    "data_all1 = data_all.set_index('timestamp')\n",
    "daily = data_all1.groupby([\"sensor_id\", \"type\"]).resample('D').agg({'value': ['mean', 'min', 'max']})\n",
    "daily"
   ]
  },
  {
   "cell_type": "markdown",
   "metadata": {},
   "source": [
    "### 6.0 Correlations Analysis\n",
    "\n",
    "The next task is to perform a correlation analysis. \n",
    "\n",
    "1.  Goal: We want to find all the sensors that are strongly correlated to each other.\n",
    "2. One of the reasons for doing this is that if two (or more) sensors are very highly correlated, we only need to keep one out of each correlated set. (This reduces the problem size and also takes care of colinearlity-related unstability in certain calculations.)"
   ]
  },
  {
   "cell_type": "markdown",
   "metadata": {},
   "source": [
    "The Correlation heatmap that we are looking for should be along the following lines:\n",
    "\n",
    "\n",
    "<img src = \"images/example-2.png\" width=450 height=200>"
   ]
  },
  {
   "cell_type": "markdown",
   "metadata": {},
   "source": [
    "First, look for correlations visually. \n",
    "\n",
    "**Subtask: Plot all the sensors values (of one type) over time.**"
   ]
  },
  {
   "cell_type": "markdown",
   "metadata": {},
   "source": [
    "Sub task: Identify all the temperature sensors in the data set. Hint: These are the ones that have the string 'TCA' in their type id's"
   ]
  },
  {
   "cell_type": "code",
   "execution_count": null,
   "metadata": {},
   "outputs": [],
   "source": [
    "#group by temp sensors then plot them on one single plot\n",
    "temp_sensors = data_all.type_id == 'TCA'\n",
    "plt.figure(figsize=(20,10))\n",
    "data_all[temp_sensors]['value'].plot()"
   ]
  },
  {
   "cell_type": "code",
   "execution_count": null,
   "metadata": {},
   "outputs": [],
   "source": [
    "# s2 = full\n",
    "temp_sensors1 = [i for i in data_all[data_all.type_id == 'TCA']['id_x']]\n",
    "# temp_sensors = [s for s in s2[s2.type_id =='TCA']['id_x']]\n",
    "# temperature_sensors = [s for t,s in zip(s2['type_id'], s2['id_x']) if t=='TCA'] # alternative way"
   ]
  },
  {
   "cell_type": "markdown",
   "metadata": {},
   "source": [
    "** Using Pandas to plot all the temperature sensors on one single plot. **\n",
    "\n",
    "- Use pandas to loop over each temperature sensor, and plot them one at a time.\n",
    "- Hint: Group by sensor_ids and hence plot each group per time."
   ]
  },
  {
   "cell_type": "code",
   "execution_count": null,
   "metadata": {},
   "outputs": [],
   "source": [
    "plt.figure(figsize=(20,5))\n",
    "\n",
    "for i in temp_sensors1:\n",
    "    #print(s)\n",
    "    sub_df = data_all[data_all['sensor_id']==i]\n",
    "    plt.plot(sub_df.index, sub_df['value'], '.')"
   ]
  },
  {
   "cell_type": "code",
   "execution_count": null,
   "metadata": {},
   "outputs": [],
   "source": [
    "# plt.figure(figsize=(20, 8))\n",
    "\n",
    "# for index, group in enumerate(temp_groups):\n",
    "#     sensor_id, sensor_df = group\n",
    "#     plt.plot(sensor_df.index, sensor_df[\"value\"], \".\")\n",
    "plt.figure(figsize=(20,5))\n",
    "\n",
    "for s in temp_sensors:\n",
    "    #print(s)\n",
    "    sub_df = full[full['sensor_id']==s]\n",
    "    plt.plot(sub_df.index, sub_df['value'], '.')"
   ]
  },
  {
   "cell_type": "markdown",
   "metadata": {},
   "source": [
    "**Task: Creating Subplots - Each temperature sensor gets its own panel**"
   ]
  },
  {
   "cell_type": "markdown",
   "metadata": {},
   "source": [
    "Question: Based on the plots being made, comment on the readings made by the temperature sensors."
   ]
  },
  {
   "cell_type": "markdown",
   "metadata": {},
   "source": [
    "**Task: Clean Up Sensor Data**"
   ]
  },
  {
   "cell_type": "code",
   "execution_count": 61,
   "metadata": {},
   "outputs": [
    {
     "data": {
      "text/plain": [
       "id_x               0.000000\n",
       "type               0.000000\n",
       "si_unit            0.000000\n",
       "type_id            0.000000\n",
       "id_y               0.000000\n",
       "description        0.000000\n",
       "data_frequency     0.000000\n",
       "status             0.000000\n",
       "created_at         0.000000\n",
       "updated_at         0.000000\n",
       "data_type_id       0.000000\n",
       "node_id            0.000000\n",
       "id                 0.000000\n",
       "value             64.054516\n",
       "timestamp          0.000000\n",
       "sensor_id          0.000000\n",
       "dtype: float64"
      ]
     },
     "execution_count": 61,
     "metadata": {},
     "output_type": "execute_result"
    }
   ],
   "source": [
    "data_all.isnull().sum()*(100/(len(data_point)))"
   ]
  },
  {
   "cell_type": "code",
   "execution_count": 66,
   "metadata": {},
   "outputs": [
    {
     "data": {
      "text/plain": [
       "id_x               0.000000\n",
       "type               0.000000\n",
       "si_unit            0.000000\n",
       "type_id            0.000000\n",
       "id_y               0.000000\n",
       "description        0.000000\n",
       "data_frequency     0.000000\n",
       "status             0.000000\n",
       "created_at         0.000000\n",
       "updated_at         0.000000\n",
       "data_type_id       0.000000\n",
       "node_id            0.000000\n",
       "id                 0.000000\n",
       "value             64.054516\n",
       "timestamp          0.000000\n",
       "sensor_id          0.000000\n",
       "dtype: float64"
      ]
     },
     "execution_count": 66,
     "metadata": {},
     "output_type": "execute_result"
    }
   ],
   "source": [
    "data_all_clean = data_all.isnull().sum()*(100/(len(data_all)))\n",
    "data_all_clean"
   ]
  },
  {
   "cell_type": "code",
   "execution_count": 62,
   "metadata": {},
   "outputs": [],
   "source": [
    "data_point1 = data_point.dropna().isnull().sum()"
   ]
  },
  {
   "cell_type": "markdown",
   "metadata": {},
   "source": [
    "Although 64% of value data was missing I still droped the missing data. Reason being this is data that was being collected every minute and the remaining data is enough to provide us with insights that will be a representation of the whole data."
   ]
  },
  {
   "cell_type": "markdown",
   "metadata": {},
   "source": [
    "## Task: Creating a reshaped Data Frame of Temperature sensors\n",
    "\n",
    "For this, we are going to have each column be 1 sensor... from 1 to 10. The rows will be timestamps, as before.\n",
    "\n",
    "Hint: pd.pivot() is perfect for this task."
   ]
  },
  {
   "cell_type": "code",
   "execution_count": null,
   "metadata": {},
   "outputs": [],
   "source": [
    "# df.pivot(index='patient', columns='obs', values='score')"
   ]
  },
  {
   "cell_type": "markdown",
   "metadata": {},
   "source": [
    "Since this is a real sensor data set, there are some time stamps and sensor_id's that are repeating. (Unfortunately, this happens often in real data sets.)\n",
    "\n",
    "**Task: Find all rows with the same [Timestamp, Sensor_id] and delete them **"
   ]
  },
  {
   "cell_type": "markdown",
   "metadata": {},
   "source": [
    "**Here's a clever way to find out all the duplicated rows.**\n",
    "\n",
    "Some Timestamp and sensor_id are repeating. That causes Indexing problems."
   ]
  },
  {
   "cell_type": "code",
   "execution_count": null,
   "metadata": {},
   "outputs": [],
   "source": [
    "#pd.concat(g for _, g in df.groupby(\"ID\") if len(g) > 1)"
   ]
  },
  {
   "cell_type": "markdown",
   "metadata": {},
   "source": [
    "**Task: Drop Duplicates**\n",
    "1. Drop all the rows where timestamp and sensor_id are duplicated\n",
    "2. Pivot the table\n",
    "3. Resample the temperature data to daily level.\n",
    "4. Calculate the mean of the resampled daily data."
   ]
  },
  {
   "cell_type": "code",
   "execution_count": null,
   "metadata": {},
   "outputs": [],
   "source": [
    "# tdf = temp_df.drop_duplicates(subset = ['timestamp', 'sensor_id'], keep='first')"
   ]
  },
  {
   "cell_type": "code",
   "execution_count": null,
   "metadata": {},
   "outputs": [],
   "source": [
    "#temp_df_cor = tdf.pivot(index='timestamp', columns='sensor_id', values='value')"
   ]
  },
  {
   "cell_type": "code",
   "execution_count": null,
   "metadata": {},
   "outputs": [],
   "source": [
    "# daily_temp_cor_df = pivoted.resample('D').mean()"
   ]
  },
  {
   "cell_type": "markdown",
   "metadata": {},
   "source": [
    "Now, we are finally ready to calculate the correlations across sensor values. Hint: `Use corr()`"
   ]
  },
  {
   "cell_type": "code",
   "execution_count": null,
   "metadata": {},
   "outputs": [],
   "source": [
    "# corr_df = daily_temp_cor_df.corr()"
   ]
  },
  {
   "cell_type": "code",
   "execution_count": null,
   "metadata": {},
   "outputs": [],
   "source": [
    "# # Create a mask to display only the lower triangle of the matrix (since it's mirrored around its \n",
    "# # top-left to bottom-right diagonal).\n",
    "# mask = np.zeros_like(corr_df)\n",
    "# mask[np.triu_indices_from(mask)] = True"
   ]
  },
  {
   "cell_type": "code",
   "execution_count": null,
   "metadata": {},
   "outputs": [],
   "source": [
    "# # Create the heatmap using seaborn library. \n",
    "# # List if colormaps (parameter 'cmap') is available here: http://matplotlib.org/examples/color/colormaps_reference.html\n",
    "# sns.heatmap(corr_df, cmap='RdYlGn_r', vmax=1.0, vmin=-1.0 , mask = mask, linewidths=2.5)\n",
    " \n",
    "# # Show the plot we reorient the labels for each column and row to make them easier to read.\n",
    "# plt.yticks(rotation=0) \n",
    "# plt.xticks(rotation=90) \n",
    "# plt.show()"
   ]
  },
  {
   "cell_type": "code",
   "execution_count": null,
   "metadata": {},
   "outputs": [],
   "source": [
    "# full2 = full.reset_index().drop_duplicates(subset = ['timestamp', 'sensor_id'], keep='first')"
   ]
  },
  {
   "cell_type": "code",
   "execution_count": null,
   "metadata": {},
   "outputs": [],
   "source": [
    "# full_wide = full2.pivot(index='timestamp', columns='sensor_id', values='value')"
   ]
  },
  {
   "cell_type": "code",
   "execution_count": null,
   "metadata": {},
   "outputs": [],
   "source": [
    "# daily_all_sensors = full_wide.resample('D').mean()"
   ]
  },
  {
   "cell_type": "markdown",
   "metadata": {},
   "source": [
    "**Question:**\n",
    "Based on the results of the correlation heatmap for temperature sensors, would you recommend working with all temperature sensors or just a subset?"
   ]
  },
  {
   "cell_type": "markdown",
   "metadata": {},
   "source": []
  },
  {
   "cell_type": "markdown",
   "metadata": {},
   "source": [
    "**Task: Based on the answer above, remove unnecessary temperature sensors from the data**"
   ]
  },
  {
   "cell_type": "code",
   "execution_count": null,
   "metadata": {},
   "outputs": [],
   "source": []
  },
  {
   "cell_type": "markdown",
   "metadata": {},
   "source": [
    "## Trying to building a Linear Model\n",
    "\n",
    "In order to do that, we first need to create a data frame with the columns representing only those sensors for ONE NODE.\n",
    "\n",
    "Try to see if pd.pivot() can help with grouping Nodes together"
   ]
  },
  {
   "cell_type": "code",
   "execution_count": null,
   "metadata": {
    "scrolled": true
   },
   "outputs": [],
   "source": [
    "# nodes.name # so we have 10 \"nodes\" with 6 sensors each. [T, Pr, HUMA, PPM , PPM2, BATT]"
   ]
  },
  {
   "cell_type": "markdown",
   "metadata": {},
   "source": [
    "**Task: Merge the full data set with the nodes**\n",
    "\n",
    "1. Perform the merge above.\n",
    "2. Resample the data to the daily level and show a sample of the mean.\n",
    "3. Pivot the table to show columns of the sensor types as columns vs name and timestamp\n",
    "\n",
    "\n",
    "<img src = \"images/example-3.png\" width=450 height=400>"
   ]
  },
  {
   "cell_type": "code",
   "execution_count": null,
   "metadata": {},
   "outputs": [],
   "source": [
    "# fullnode.resample('D').mean()"
   ]
  },
  {
   "cell_type": "code",
   "execution_count": null,
   "metadata": {},
   "outputs": [],
   "source": [
    "# fullnode.pivot_table(index=['timestamp', 'name'], columns='type', values='value')\n",
    "# fn_wide = fullnode.pivot_table(index=['timestamp','name'], columns=['type'], values='value')"
   ]
  },
  {
   "cell_type": "code",
   "execution_count": null,
   "metadata": {},
   "outputs": [],
   "source": [
    "#Now, let's make the Node ('name') into its own column. We do this by reset_index() for that level (=1)\n",
    "# fn_wide.reset_index(level=1, inplace=True)"
   ]
  },
  {
   "cell_type": "code",
   "execution_count": null,
   "metadata": {},
   "outputs": [],
   "source": [
    "# fn_wide.head()"
   ]
  },
  {
   "cell_type": "markdown",
   "metadata": {},
   "source": [
    "Before we can perform Linear Regression, we have one last step remaining. We'd like to \"resample\" all the data, aggregating it down to 'Daily' Levels."
   ]
  },
  {
   "cell_type": "code",
   "execution_count": null,
   "metadata": {},
   "outputs": [],
   "source": [
    "# lmfn = fn_wide.resample('D').mean()"
   ]
  },
  {
   "cell_type": "code",
   "execution_count": null,
   "metadata": {},
   "outputs": [],
   "source": [
    "# lmfn.shape"
   ]
  },
  {
   "cell_type": "markdown",
   "metadata": {},
   "source": [
    "### End of Stitching. \n",
    "\n",
    "**The Digital Thread for this dataset has been created**\n",
    "\n",
    "This \"digital Thread\" has been used to 'stitch' the data frame with all the values we wish to analyze.\n",
    "\n",
    "---\n",
    "Now we finally have the data frame in the shape we wanted to enable Linear Regression.\n",
    "\n",
    "### 8.0 Sample Modeling"
   ]
  },
  {
   "cell_type": "markdown",
   "metadata": {},
   "source": [
    "**8.1 Building A Battery Remaining-Life prediction model **\n",
    "Build a machine learning model (LR, tree-based or any other) to try and predict the Battery life (remaining) as a function of any of the other sensor characteristic.\n",
    "\n",
    "* Which variable (sensor) is a good predictor of battery life?\n",
    "* Is your linear regression a \"good fit?\"\n",
    "* What it the RMSE of your predicted values?"
   ]
  },
  {
   "cell_type": "code",
   "execution_count": null,
   "metadata": {},
   "outputs": [],
   "source": [
    "# #==============================================================================\n",
    "# # Supervised learning linear regression\n",
    "# #==============================================================================\n",
    "\n",
    "# from sklearn import linear_model\n",
    "\n",
    "# # Split the data into training/testing sets\n",
    "# train = lmfn[:-30]\n",
    "# test = lmfn[-30:]"
   ]
  },
  {
   "cell_type": "code",
   "execution_count": null,
   "metadata": {},
   "outputs": [],
   "source": [
    "# train.columns"
   ]
  },
  {
   "cell_type": "code",
   "execution_count": null,
   "metadata": {},
   "outputs": [],
   "source": [
    "# target, predictors = 'battery', 'temperature'\n",
    "\n",
    "# x_train=train[predictors].to_frame() #converts the pandas Series to numpy.ndarray\n",
    "# y_train=train[target].to_frame()\n",
    "# x_test=test[predictors].to_frame() #converts the pandas Series to numpy.ndarray\n",
    "# y_test=test[target].to_frame()"
   ]
  }
 ],
 "metadata": {
  "kernelspec": {
   "display_name": "Python 3",
   "language": "python",
   "name": "python3"
  },
  "language_info": {
   "codemirror_mode": {
    "name": "ipython",
    "version": 3
   },
   "file_extension": ".py",
   "mimetype": "text/x-python",
   "name": "python",
   "nbconvert_exporter": "python",
   "pygments_lexer": "ipython3",
   "version": "3.7.4"
  }
 },
 "nbformat": 4,
 "nbformat_minor": 2
}
